{
 "cells": [
  {
   "cell_type": "markdown",
   "metadata": {},
   "source": [
    "# Dictionary"
   ]
  },
  {
   "cell_type": "raw",
   "metadata": {},
   "source": [
    "->Dictionaries are used to store data values in key:value pairs, It is shown with courly brackets.\n",
    "-> A dictionary is a collection which is unordered, changeable and does not allow duplicates."
   ]
  },
  {
   "cell_type": "code",
   "execution_count": 9,
   "metadata": {},
   "outputs": [
    {
     "name": "stdout",
     "output_type": "stream",
     "text": [
      "Rishi\n",
      "20\n"
     ]
    }
   ],
   "source": [
    "student = {'name': 'Rishi', 'age': 20, 'course': ['Compsci', 'Astrophysics']}\n",
    "print(student['name']) \n",
    "print(student['age'])"
   ]
  },
  {
   "cell_type": "code",
   "execution_count": 2,
   "metadata": {},
   "outputs": [
    {
     "name": "stdout",
     "output_type": "stream",
     "text": [
      "22525-2253\n",
      "{'name': 'Ris', 'age': 20, 'course': ['Compsci', 'Astrophysics'], 'phone': '22525-2253'}\n"
     ]
    }
   ],
   "source": [
    "student['name'] = 'Ris' #Update a new value to key 'name'\n",
    "student['phone'] = '22525-2253' #Add phone key value \n",
    "print(student.get('phone'))\n",
    "print(student)"
   ]
  },
  {
   "cell_type": "code",
   "execution_count": 4,
   "metadata": {},
   "outputs": [
    {
     "name": "stdout",
     "output_type": "stream",
     "text": [
      "{'name': 'Rishi Patel', 'age': 4, 'course': ['Compsci', 'Astrophysics'], 'phone': '22525-2253', 'hobby': 'Stargrazing'}\n"
     ]
    }
   ],
   "source": [
    "# Update method is used to update more than one key values at a time\n",
    "student.update({'name': 'Rishi Patel', 'age': 4, 'hobby': 'Stargrazing'})\n",
    "print(student)"
   ]
  },
  {
   "cell_type": "code",
   "execution_count": 7,
   "metadata": {},
   "outputs": [
    {
     "name": "stdout",
     "output_type": "stream",
     "text": [
      "{'name': 'Rishi'}\n",
      "['Compsci', 'Astrophysics']\n"
     ]
    }
   ],
   "source": [
    "age = student.pop('course') # Pop method will pop out the key value from the dict and print where it is assign\n",
    "del student['age']\n",
    "print(student)\n",
    "print(age)"
   ]
  },
  {
   "cell_type": "code",
   "execution_count": 10,
   "metadata": {},
   "outputs": [
    {
     "name": "stdout",
     "output_type": "stream",
     "text": [
      "3\n",
      "dict_keys(['name', 'age', 'course'])\n",
      "dict_values(['Rishi', 20, ['Compsci', 'Astrophysics']])\n",
      "dict_items([('name', 'Rishi'), ('age', 20), ('course', ['Compsci', 'Astrophysics'])])\n"
     ]
    }
   ],
   "source": [
    "print(len(student)) # Lenght of keys\n",
    "print(student.keys()) # Displays keys of dict\n",
    "print(student.values()) # Displays vlalues of dict\n",
    "print(student.items()) # Displays keys: values in list"
   ]
  },
  {
   "cell_type": "code",
   "execution_count": null,
   "metadata": {},
   "outputs": [],
   "source": []
  }
 ],
 "metadata": {
  "kernelspec": {
   "display_name": "Python 3",
   "language": "python",
   "name": "python3"
  },
  "language_info": {
   "codemirror_mode": {
    "name": "ipython",
    "version": 3
   },
   "file_extension": ".py",
   "mimetype": "text/x-python",
   "name": "python",
   "nbconvert_exporter": "python",
   "pygments_lexer": "ipython3",
   "version": "3.7.6"
  }
 },
 "nbformat": 4,
 "nbformat_minor": 4
}
