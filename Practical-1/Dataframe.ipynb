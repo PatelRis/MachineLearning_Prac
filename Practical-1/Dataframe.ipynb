{
 "cells": [
  {
   "cell_type": "markdown",
   "metadata": {},
   "source": [
    "# Pandas (DataFrame)"
   ]
  },
  {
   "cell_type": "code",
   "execution_count": 5,
   "metadata": {},
   "outputs": [
    {
     "name": "stdout",
     "output_type": "stream",
     "text": [
      "         Name  Age\n",
      "rank1   Rishi   20\n",
      "rank2  Kushal   22\n",
      "rank3   Rushi   29\n"
     ]
    }
   ],
   "source": [
    "import pandas as pd\n",
    "data = {'Name':['Rishi', 'Kushal', 'Rushi'],'Age':[20,22,29]}\n",
    "df = pd.DataFrame(data, index=['rank1','rank2','rank3'])\n",
    "print(df)"
   ]
  },
  {
   "cell_type": "code",
   "execution_count": 13,
   "metadata": {},
   "outputs": [
    {
     "name": "stdout",
     "output_type": "stream",
     "text": [
      "         Name  Age\n",
      "Rank1   Rishi   20\n",
      "Rank2  Kushal   20\n",
      "Rank3   Rushi   20\n",
      "Adding a new column by passing as Series:\n",
      "         Name  Age   Course\n",
      "Rank1   Rishi   20  Compsci\n",
      "Rank2  Kushal   20  Compsci\n",
      "Rank3   Rushi   20  Compsci\n"
     ]
    }
   ],
   "source": [
    "data = {'Name' : pd.Series(['Rishi', 'Kushal', 'Rushi'], index=['Rank1', 'Rank2', 'Rank3']),\n",
    "   'Age' : pd.Series([20, 20, 20], index=['Rank1', 'Rank2', 'Rank3'])}\n",
    "\n",
    "df = pd.DataFrame(data)\n",
    "\n",
    "# Adding a new column to an existing DataFrame object with column label by passing new series\n",
    "print(df)\n",
    "\n",
    "print (\"Adding a new column by passing as Series:\")\n",
    "df['Course']=pd.Series(['Compsci', 'Compsci', 'Compsci'],index=['Rank1','Rank2','Rank3'])\n",
    "print(df)\n"
   ]
  },
  {
   "cell_type": "code",
   "execution_count": 29,
   "metadata": {},
   "outputs": [
    {
     "name": "stdout",
     "output_type": "stream",
     "text": [
      "   one  two\n",
      "a  1.0    1\n",
      "b  2.0    2\n",
      "c  3.0    3\n",
      "d  NaN    4\n",
      "one    2.0\n",
      "two    2.0\n",
      "Name: b, dtype: float64\n",
      "   one  two\n",
      "c  3.0    3\n",
      "d  NaN    4\n"
     ]
    }
   ],
   "source": [
    "d = {'one' : pd.Series([1, 2, 3], index=['a', 'b', 'c']), \n",
    "   'two' : pd.Series([1, 2, 3, 4], index=['a', 'b', 'c', 'd'])}\n",
    "\n",
    "df = pd.DataFrame(d)\n",
    "print(df)\n",
    "df = pd.DataFrame(d)\n",
    "print(df.loc['b'])\n",
    "print(df[2:4])#Slicing row"
   ]
  },
  {
   "cell_type": "code",
   "execution_count": 35,
   "metadata": {},
   "outputs": [
    {
     "name": "stdout",
     "output_type": "stream",
     "text": [
      "   a  b\n",
      "0  1  2\n",
      "1  3  4\n",
      "0  5  6\n",
      "1  7  8\n"
     ]
    }
   ],
   "source": [
    "df = pd.DataFrame([[1, 2], [3, 4]], columns = ['a','b'])\n",
    "df2 = pd.DataFrame([[5, 6], [7, 8]], columns = ['a','b'])\n",
    "\n",
    "df = df.append(df2)S\n",
    "print(df)"
   ]
  }
 ],
 "metadata": {
  "kernelspec": {
   "display_name": "Python 3",
   "language": "python",
   "name": "python3"
  },
  "language_info": {
   "codemirror_mode": {
    "name": "ipython",
    "version": 3
   },
   "file_extension": ".py",
   "mimetype": "text/x-python",
   "name": "python",
   "nbconvert_exporter": "python",
   "pygments_lexer": "ipython3",
   "version": "3.7.6"
  }
 },
 "nbformat": 4,
 "nbformat_minor": 4
}
