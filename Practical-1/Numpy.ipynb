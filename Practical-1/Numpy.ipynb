{
 "cells": [
  {
   "cell_type": "markdown",
   "metadata": {},
   "source": [
    "# Numpy"
   ]
  },
  {
   "cell_type": "raw",
   "metadata": {},
   "source": [
    "->NumPy is a general-purpose array-processing package."
   ]
  },
  {
   "cell_type": "code",
   "execution_count": 5,
   "metadata": {},
   "outputs": [
    {
     "name": "stdout",
     "output_type": "stream",
     "text": [
      "Array created using list\n",
      " [[1 2 3]\n",
      " [4 5 6]]\n"
     ]
    }
   ],
   "source": [
    "import numpy as np\n",
    "a = np.array([[1, 2, 3], [4, 5, 6]])\n",
    "print(\"Array created using list:\\n\", a)"
   ]
  },
  {
   "cell_type": "code",
   "execution_count": 7,
   "metadata": {},
   "outputs": [
    {
     "name": "stdout",
     "output_type": "stream",
     "text": [
      "Array created using tuple:\n",
      " [1 3 2]\n"
     ]
    }
   ],
   "source": [
    "b = np.array((1 , 3, 2)) \n",
    "print (\"Array created using tuple:\\n\", b) "
   ]
  },
  {
   "cell_type": "code",
   "execution_count": 8,
   "metadata": {},
   "outputs": [
    {
     "name": "stdout",
     "output_type": "stream",
     "text": [
      "Array created with all zeros:\n",
      " [[0. 0. 0. 0.]\n",
      " [0. 0. 0. 0.]\n",
      " [0. 0. 0. 0.]]\n"
     ]
    }
   ],
   "source": [
    "c = np.zeros((3, 4))\n",
    "print(\"Array created with all zeros:\\n\", c)"
   ]
  },
  {
   "cell_type": "code",
   "execution_count": 10,
   "metadata": {},
   "outputs": [
    {
     "name": "stdout",
     "output_type": "stream",
     "text": [
      "Random array:\n",
      " [[0.53209377 0.06338693]\n",
      " [0.42814874 0.4459505 ]]\n"
     ]
    }
   ],
   "source": [
    "e = np.random.random((2, 2)) \n",
    "print (\"Random array:\\n\", e) "
   ]
  },
  {
   "cell_type": "code",
   "execution_count": 12,
   "metadata": {},
   "outputs": [
    {
     "name": "stdout",
     "output_type": "stream",
     "text": [
      "Slicing of an 4 dimensional arrya:\n",
      " [[-1.   2. ]\n",
      " [ 4.  -0.5]]\n"
     ]
    }
   ],
   "source": [
    "import numpy as np \n",
    "  \n",
    "arr = np.array([[-1, 2, 0, 4], \n",
    "                [4, -0.5, 6, 0], \n",
    "                [2.6, 0, 7, 8], \n",
    "                [3, -7, 4, 2.0]]) \n",
    "  \n",
    "temp = arr[:2, :2] \n",
    "print (\"Slicing of an 4 dimensional arrya:\\n\", temp) "
   ]
  },
  {
   "cell_type": "code",
   "execution_count": 14,
   "metadata": {},
   "outputs": [
    {
     "name": "stdout",
     "output_type": "stream",
     "text": [
      "Adding 1 to every element: [2 3 6 4]\n",
      "Subtracting 5 from each element: [-4 -3  0 -2]\n",
      "Multiplying each element by 2: [ 2  4 10  6]\n",
      "Squaring each element: [ 1  4 25  9]\n",
      "[1 2 5 3]\n"
     ]
    }
   ],
   "source": [
    "import numpy as np \n",
    "  \n",
    "a = np.array([1, 2, 5, 3]) \n",
    "  \n",
    "# add 1 to every element \n",
    "print (\"Adding 1 to every element:\", a+1) \n",
    "  \n",
    "# subtract 5 from each element \n",
    "print (\"Subtracting 5 from each element:\", a-5) \n",
    "  \n",
    "# multiply each element by 2 \n",
    "print (\"Multiplying each element by 2:\", a*2) \n",
    "  \n",
    "# square each element \n",
    "print (\"Squaring each element:\", a**2) "
   ]
  },
  {
   "cell_type": "code",
   "execution_count": 16,
   "metadata": {},
   "outputs": [
    {
     "name": "stdout",
     "output_type": "stream",
     "text": [
      "Original array:\n",
      " [[1 2 3]\n",
      " [3 4 5]\n",
      " [9 6 0]]\n",
      "Transpose of array:\n",
      " [[1 3 9]\n",
      " [2 4 6]\n",
      " [3 5 0]]\n"
     ]
    }
   ],
   "source": [
    "#Transpose of an array \n",
    "a = np.array([[1, 2, 3], [3, 4, 5], [9, 6, 0]]) \n",
    "  \n",
    "print (\"Original array:\\n\", a) \n",
    "print (\"Transpose of array:\\n\", a.T) "
   ]
  },
  {
   "cell_type": "code",
   "execution_count": null,
   "metadata": {},
   "outputs": [],
   "source": []
  }
 ],
 "metadata": {
  "kernelspec": {
   "display_name": "Python 3",
   "language": "python",
   "name": "python3"
  },
  "language_info": {
   "codemirror_mode": {
    "name": "ipython",
    "version": 3
   },
   "file_extension": ".py",
   "mimetype": "text/x-python",
   "name": "python",
   "nbconvert_exporter": "python",
   "pygments_lexer": "ipython3",
   "version": "3.7.6"
  }
 },
 "nbformat": 4,
 "nbformat_minor": 4
}
